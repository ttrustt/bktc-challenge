{
  "nbformat": 4,
  "nbformat_minor": 0,
  "metadata": {
    "colab": {
      "name": "script.ipynb",
      "provenance": []
    },
    "kernelspec": {
      "name": "python3",
      "display_name": "Python 3"
    },
    "language_info": {
      "name": "python"
    }
  },
  "cells": [
    {
      "cell_type": "code",
      "metadata": {
        "id": "JUAZ0DC9A48w"
      },
      "source": [
        "from time import sleep\n",
        "import pandas as pd\n",
        "import requests\n",
        "import json\n",
        "\n",
        "def get_api(address):\n",
        "  x = requests.get('http://api-ropsten.etherscan.io/api?module=account&action=tokentx&address='+address+'&startblock=0&endblock=999999999&sort=asc&apikey=FV2TJTM9U8WYF4TA56DE9UIBYN4ZGWM198', headers={'User-Agent': 'Mozilla/5.0 (Macintosh; Intel Mac OS X 10_11_5) AppleWebKit/537.36 (KHTML, like Gecko) Chrome/50.0.2661.102 Safari/537.36'})\n",
        "  return json.loads(x.content)"
      ],
      "execution_count": 1,
      "outputs": []
    },
    {
      "cell_type": "code",
      "metadata": {
        "id": "v8BmudnJFMsF"
      },
      "source": [
        "df = pd.DataFrame([], columns=['hash','from','to','value'])\n",
        "user_address = '0xEcA19B1a87442b0c25801B809bf567A6ca87B1da'\n",
        "user_transactions = [t for t in get_api(user_address)['result'] if t['tokenSymbol'] == 'BKTC' and t['from'] == user_address.lower()]\n",
        "user_transactions = [(t['hash'], t['from'], t['to'], t['value'], t['timeStamp']) for t in user_transactions]\n",
        "df = df.append(pd.DataFrame(user_transactions, columns=['hash','from','to','value','timestamp']))"
      ],
      "execution_count": 2,
      "outputs": []
    },
    {
      "cell_type": "code",
      "metadata": {
        "id": "HN4RvuksH-pW"
      },
      "source": [
        "check = 0\n",
        "cur_list = ['check']\n",
        "while len(cur_list) > 0:\n",
        "  cur_list = []\n",
        "  tmp = df.copy()\n",
        "  for i in range(check, len(tmp)):\n",
        "    address = df['to'][i]\n",
        "    time = df['timestamp'][i]\n",
        "    user_transactions = []\n",
        "    for t in get_api(address)['result']: \n",
        "      if type(t) == str:\n",
        "        continue\n",
        "      if t['tokenSymbol'] == 'BKTC' and t['from'] == address.lower() and t['timeStamp'] > time:\n",
        "        user_transactions.append(t)\n",
        "    user_transactions = [(t['hash'], t['from'], t['to'], t['value'], t['timeStamp']) for t in user_transactions]\n",
        "    cur_list = cur_list + user_transactions\n",
        "    df = df.append(pd.DataFrame(user_transactions, columns=['hash','from','to','value','timestamp'])).reset_index(drop=True)\n",
        "    check = len(tmp)\n",
        "    sleep(1)"
      ],
      "execution_count": 3,
      "outputs": []
    },
    {
      "cell_type": "code",
      "metadata": {
        "id": "3SxJuMftM4_C"
      },
      "source": [
        "df = df.sort_values('timestamp').reset_index(drop=True)\n",
        "df = df.iloc[:,:-1]\n",
        "df['value'] = pd.to_numeric(df['value'])"
      ],
      "execution_count": 4,
      "outputs": []
    },
    {
      "cell_type": "code",
      "metadata": {
        "id": "IXXIIzUeML0r"
      },
      "source": [
        "user_list = []\n",
        "user_list = user_list + df['from'].tolist()\n",
        "user_list = user_list + df['to'].tolist()\n",
        "user_list = list(set(user_list))"
      ],
      "execution_count": 5,
      "outputs": []
    },
    {
      "cell_type": "code",
      "metadata": {
        "id": "FHvSWGRDRWwY"
      },
      "source": [
        "res = []\n",
        "for user in user_list:\n",
        "  address = user\n",
        "  cal = 0\n",
        "  for t in get_api(address)['result']:\n",
        "    if t['tokenSymbol'] == 'BKTC' and t['from'] == address:\n",
        "      cal -= int(t['value'])\n",
        "  sleep(1)\n",
        "  for t in get_api(address)['result']:\n",
        "    if t['tokenSymbol'] == 'BKTC' and t['to'] == address:\n",
        "      cal += int(t['value'])\n",
        "  sleep(1)\n",
        "  res.append((user, cal))"
      ],
      "execution_count": 6,
      "outputs": []
    },
    {
      "cell_type": "code",
      "metadata": {
        "id": "cqsZOZOJQbU7"
      },
      "source": [
        "res = pd.DataFrame(res, columns=['address', 'amount'])"
      ],
      "execution_count": 7,
      "outputs": []
    },
    {
      "cell_type": "code",
      "metadata": {
        "id": "qxtByIt_Spce"
      },
      "source": [
        "df.to_csv('transaction.csv')\n",
        "res.to_csv('amount.csv')"
      ],
      "execution_count": 8,
      "outputs": []
    },
    {
      "cell_type": "code",
      "metadata": {
        "id": "UpSkbFzKT7BB"
      },
      "source": [
        ""
      ],
      "execution_count": null,
      "outputs": []
    }
  ]
}