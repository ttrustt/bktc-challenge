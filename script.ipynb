{
  "nbformat": 4,
  "nbformat_minor": 0,
  "metadata": {
    "colab": {
      "name": "script.ipynb",
      "provenance": []
    },
    "kernelspec": {
      "name": "python3",
      "display_name": "Python 3"
    },
    "language_info": {
      "name": "python"
    }
  },
  "cells": [
    {
      "cell_type": "code",
      "metadata": {
        "id": "JUAZ0DC9A48w"
      },
      "source": [
        "from time import sleep\n",
        "import pandas as pd\n",
        "import requests\n",
        "import json\n",
        "\n",
        "def get_api(address):\n",
        "  x = requests.get('http://api-ropsten.etherscan.io/api?module=account&action=tokentx&address='+address+'&startblock=0&endblock=999999999&sort=asc&apikey=FV2TJTM9U8WYF4TA56DE9UIBYN4ZGWM198', headers={'User-Agent': 'Mozilla/5.0 (Macintosh; Intel Mac OS X 10_11_5) AppleWebKit/537.36 (KHTML, like Gecko) Chrome/50.0.2661.102 Safari/537.36'})\n",
        "  return json.loads(x.content)"
      ],
      "execution_count": 1,
      "outputs": []
    },
    {
      "cell_type": "code",
      "metadata": {
        "id": "v8BmudnJFMsF"
      },
      "source": [
        "df = pd.DataFrame([], columns=['hash','from','to','value'])\n",
        "user_address = '0xEcA19B1a87442b0c25801B809bf567A6ca87B1da'\n",
        "user_transactions = [t for t in get_api(user_address)['result'] if t['tokenSymbol'] == 'BKTC' and t['from'] == user_address.lower()]\n",
        "user_transactions = [(t['hash'], t['from'], t['to'], t['value'], t['timeStamp']) for t in user_transactions]\n",
        "df = df.append(pd.DataFrame(user_transactions, columns=['hash','from','to','value','timestamp']))"
      ],
      "execution_count": 2,
      "outputs": []
    },
    {
      "cell_type": "code",
      "metadata": {
        "id": "HN4RvuksH-pW"
      },
      "source": [
        "check = 0\n",
        "cur_list = ['check']\n",
        "while len(cur_list) > 0:\n",
        "  cur_list = []\n",
        "  tmp = df.copy()\n",
        "  for i in range(check, len(tmp)):\n",
        "    address = df['to'][i]\n",
        "    time = df['timestamp'][i]\n",
        "    user_transactions = []\n",
        "    for t in get_api(address)['result']: \n",
        "      if type(t) == str:\n",
        "        continue\n",
        "      if t['tokenSymbol'] == 'BKTC' and t['from'] == address.lower() and t['timeStamp'] > time:\n",
        "        user_transactions.append(t)\n",
        "    user_transactions = [(t['hash'], t['from'], t['to'], t['value'], t['timeStamp']) for t in user_transactions]\n",
        "    cur_list = cur_list + user_transactions\n",
        "    df = df.append(pd.DataFrame(user_transactions, columns=['hash','from','to','value','timestamp'])).reset_index(drop=True)\n",
        "    check = len(tmp)\n",
        "    sleep(1)"
      ],
      "execution_count": 3,
      "outputs": []
    },
    {
      "cell_type": "code",
      "metadata": {
        "id": "3SxJuMftM4_C"
      },
      "source": [
        "df = df.sort_values('timestamp').reset_index(drop=True)\n",
        "df = df.iloc[:,:-1]\n",
        "df['value'] = pd.to_numeric(df['value'])\n",
        "df = df.drop_duplicates(['from', 'to']).reset_index(drop=True)"
      ],
      "execution_count": 4,
      "outputs": []
    },
    {
      "cell_type": "code",
      "metadata": {
        "id": "IXXIIzUeML0r"
      },
      "source": [
        "user_list = []\n",
        "user_list = user_list + df['from'].tolist()\n",
        "user_list = user_list + df['to'].tolist()\n",
        "user_list = list(set(user_list))"
      ],
      "execution_count": 5,
      "outputs": []
    },
    {
      "cell_type": "code",
      "metadata": {
        "id": "FHvSWGRDRWwY"
      },
      "source": [
        "res = []\n",
        "for user in user_list:\n",
        "  address = user\n",
        "  cal = 0\n",
        "  for t in get_api(address)['result']:\n",
        "    if t['tokenSymbol'] == 'BKTC' and t['from'] == address:\n",
        "      cal -= int(t['value'])\n",
        "  sleep(1)\n",
        "  for t in get_api(address)['result']:\n",
        "    if t['tokenSymbol'] == 'BKTC' and t['to'] == address:\n",
        "      cal += int(t['value'])\n",
        "  sleep(1)\n",
        "  res.append((user, cal))"
      ],
      "execution_count": 6,
      "outputs": []
    },
    {
      "cell_type": "code",
      "metadata": {
        "id": "cqsZOZOJQbU7"
      },
      "source": [
        "res = pd.DataFrame(res, columns=['address', 'amount'])\n",
        "res['amount'] = res['amount'] // 1000000000000000000"
      ],
      "execution_count": 7,
      "outputs": []
    },
    {
      "cell_type": "code",
      "metadata": {
        "id": "qxtByIt_Spce"
      },
      "source": [
        "df.to_csv('transaction.csv')\n",
        "res.to_csv('amount.csv')"
      ],
      "execution_count": 8,
      "outputs": []
    },
    {
      "cell_type": "code",
      "metadata": {
        "colab": {
          "base_uri": "https://localhost:8080/",
          "height": 472
        },
        "id": "znfPDxK8XwPr",
        "outputId": "9abb8485-3bb5-46df-b405-72f32a738167"
      },
      "source": [
        "df"
      ],
      "execution_count": 9,
      "outputs": [
        {
          "output_type": "execute_result",
          "data": {
            "text/html": [
              "<div>\n",
              "<style scoped>\n",
              "    .dataframe tbody tr th:only-of-type {\n",
              "        vertical-align: middle;\n",
              "    }\n",
              "\n",
              "    .dataframe tbody tr th {\n",
              "        vertical-align: top;\n",
              "    }\n",
              "\n",
              "    .dataframe thead th {\n",
              "        text-align: right;\n",
              "    }\n",
              "</style>\n",
              "<table border=\"1\" class=\"dataframe\">\n",
              "  <thead>\n",
              "    <tr style=\"text-align: right;\">\n",
              "      <th></th>\n",
              "      <th>hash</th>\n",
              "      <th>from</th>\n",
              "      <th>to</th>\n",
              "      <th>value</th>\n",
              "    </tr>\n",
              "  </thead>\n",
              "  <tbody>\n",
              "    <tr>\n",
              "      <th>0</th>\n",
              "      <td>0x905cdb49db7b8804830017e3f3d4a6d80f30c15f2ef8...</td>\n",
              "      <td>0xeca19b1a87442b0c25801b809bf567a6ca87b1da</td>\n",
              "      <td>0xee889cdf628e138f15538304fd72e2af56cbe4b6</td>\n",
              "      <td>10000000000000000000</td>\n",
              "    </tr>\n",
              "    <tr>\n",
              "      <th>1</th>\n",
              "      <td>0xde88b7bbe2d12527a53d3ce4c0f9c980da5683fd1f5e...</td>\n",
              "      <td>0xeca19b1a87442b0c25801b809bf567a6ca87b1da</td>\n",
              "      <td>0x4b41947e269464408bbd9dce7346a7e07d522b12</td>\n",
              "      <td>5000000000000000000</td>\n",
              "    </tr>\n",
              "    <tr>\n",
              "      <th>2</th>\n",
              "      <td>0x6ce6f2b521c84bd983752c3304ca5ae1a6b0ba54eaa2...</td>\n",
              "      <td>0xee889cdf628e138f15538304fd72e2af56cbe4b6</td>\n",
              "      <td>0x936146f6850dc157e77fc060c442e0bdffbbe6ff</td>\n",
              "      <td>7000000000000000000</td>\n",
              "    </tr>\n",
              "    <tr>\n",
              "      <th>3</th>\n",
              "      <td>0x455354c462770b8dd8a72952afaa61cd57b99d113436...</td>\n",
              "      <td>0xeca19b1a87442b0c25801b809bf567a6ca87b1da</td>\n",
              "      <td>0x873ce5c27fe1a679b724e25b5a856282a93b137f</td>\n",
              "      <td>5000000000000000000</td>\n",
              "    </tr>\n",
              "    <tr>\n",
              "      <th>4</th>\n",
              "      <td>0x54467620c2b9a81edcaf551f35971aa7d0ff70459a57...</td>\n",
              "      <td>0xee889cdf628e138f15538304fd72e2af56cbe4b6</td>\n",
              "      <td>0x11759e580b444aa1136482929984c76a19ef2794</td>\n",
              "      <td>3000000000000000000</td>\n",
              "    </tr>\n",
              "    <tr>\n",
              "      <th>5</th>\n",
              "      <td>0x167b71f723d9bab42391a45b0741d271dbe8885893ae...</td>\n",
              "      <td>0x936146f6850dc157e77fc060c442e0bdffbbe6ff</td>\n",
              "      <td>0x635893f9918cbb41cb6c6bde4a87e5959f53dd56</td>\n",
              "      <td>5000000000000000000</td>\n",
              "    </tr>\n",
              "    <tr>\n",
              "      <th>6</th>\n",
              "      <td>0xae60662ef751a8f682c78fdcf3c9ce6de57b6ec59710...</td>\n",
              "      <td>0x873ce5c27fe1a679b724e25b5a856282a93b137f</td>\n",
              "      <td>0x711447b288e2f853fa9716aa8eba37b02ca8a50f</td>\n",
              "      <td>10000000000000000000</td>\n",
              "    </tr>\n",
              "    <tr>\n",
              "      <th>7</th>\n",
              "      <td>0xd7fb8762f19f4745b6abd6d744df21ffd933905180ea...</td>\n",
              "      <td>0x4b41947e269464408bbd9dce7346a7e07d522b12</td>\n",
              "      <td>0x711447b288e2f853fa9716aa8eba37b02ca8a50f</td>\n",
              "      <td>3000000000000000000</td>\n",
              "    </tr>\n",
              "    <tr>\n",
              "      <th>8</th>\n",
              "      <td>0x55275d384f5a4a664c8b63403bd1449e5d192bb92d00...</td>\n",
              "      <td>0x711447b288e2f853fa9716aa8eba37b02ca8a50f</td>\n",
              "      <td>0x8d16abfba10c079340ddf2b252f94353cdccfa57</td>\n",
              "      <td>5000000000000000000</td>\n",
              "    </tr>\n",
              "    <tr>\n",
              "      <th>9</th>\n",
              "      <td>0x98daa5d5b2106c2d29dcd7d21da2102afe5ccfac57af...</td>\n",
              "      <td>0x711447b288e2f853fa9716aa8eba37b02ca8a50f</td>\n",
              "      <td>0x8f8d0e8c921b6fbee6da796f3c823a8a1e354bea</td>\n",
              "      <td>3000000000000000000</td>\n",
              "    </tr>\n",
              "    <tr>\n",
              "      <th>10</th>\n",
              "      <td>0x6d0afa9930a11a52b76efab212cfb9d94463c909c838...</td>\n",
              "      <td>0x711447b288e2f853fa9716aa8eba37b02ca8a50f</td>\n",
              "      <td>0xabde0e83ba513891aa3bc0a2f796132cae026106</td>\n",
              "      <td>5000000000000000000</td>\n",
              "    </tr>\n",
              "    <tr>\n",
              "      <th>11</th>\n",
              "      <td>0x989541dbda86669f2d0c1e4719a6715bf5efd913c0ef...</td>\n",
              "      <td>0x11759e580b444aa1136482929984c76a19ef2794</td>\n",
              "      <td>0x04bb39f36bbadf4e31aa1df09a2f5a0b76114a62</td>\n",
              "      <td>2000000000000000000</td>\n",
              "    </tr>\n",
              "    <tr>\n",
              "      <th>12</th>\n",
              "      <td>0x86d4cdb27c58832c8e0d5e9ecbfba6704901066ebfe1...</td>\n",
              "      <td>0x11759e580b444aa1136482929984c76a19ef2794</td>\n",
              "      <td>0x8d16abfba10c079340ddf2b252f94353cdccfa57</td>\n",
              "      <td>1000000000000000000</td>\n",
              "    </tr>\n",
              "  </tbody>\n",
              "</table>\n",
              "</div>"
            ],
            "text/plain": [
              "                                                 hash  ...                 value\n",
              "0   0x905cdb49db7b8804830017e3f3d4a6d80f30c15f2ef8...  ...  10000000000000000000\n",
              "1   0xde88b7bbe2d12527a53d3ce4c0f9c980da5683fd1f5e...  ...   5000000000000000000\n",
              "2   0x6ce6f2b521c84bd983752c3304ca5ae1a6b0ba54eaa2...  ...   7000000000000000000\n",
              "3   0x455354c462770b8dd8a72952afaa61cd57b99d113436...  ...   5000000000000000000\n",
              "4   0x54467620c2b9a81edcaf551f35971aa7d0ff70459a57...  ...   3000000000000000000\n",
              "5   0x167b71f723d9bab42391a45b0741d271dbe8885893ae...  ...   5000000000000000000\n",
              "6   0xae60662ef751a8f682c78fdcf3c9ce6de57b6ec59710...  ...  10000000000000000000\n",
              "7   0xd7fb8762f19f4745b6abd6d744df21ffd933905180ea...  ...   3000000000000000000\n",
              "8   0x55275d384f5a4a664c8b63403bd1449e5d192bb92d00...  ...   5000000000000000000\n",
              "9   0x98daa5d5b2106c2d29dcd7d21da2102afe5ccfac57af...  ...   3000000000000000000\n",
              "10  0x6d0afa9930a11a52b76efab212cfb9d94463c909c838...  ...   5000000000000000000\n",
              "11  0x989541dbda86669f2d0c1e4719a6715bf5efd913c0ef...  ...   2000000000000000000\n",
              "12  0x86d4cdb27c58832c8e0d5e9ecbfba6704901066ebfe1...  ...   1000000000000000000\n",
              "\n",
              "[13 rows x 4 columns]"
            ]
          },
          "metadata": {
            "tags": []
          },
          "execution_count": 9
        }
      ]
    },
    {
      "cell_type": "code",
      "metadata": {
        "colab": {
          "base_uri": "https://localhost:8080/",
          "height": 421
        },
        "id": "_WBNyI8OUoow",
        "outputId": "443f6caa-a25e-481c-c5c2-c9ee6b37c7a0"
      },
      "source": [
        "res"
      ],
      "execution_count": 10,
      "outputs": [
        {
          "output_type": "execute_result",
          "data": {
            "text/html": [
              "<div>\n",
              "<style scoped>\n",
              "    .dataframe tbody tr th:only-of-type {\n",
              "        vertical-align: middle;\n",
              "    }\n",
              "\n",
              "    .dataframe tbody tr th {\n",
              "        vertical-align: top;\n",
              "    }\n",
              "\n",
              "    .dataframe thead th {\n",
              "        text-align: right;\n",
              "    }\n",
              "</style>\n",
              "<table border=\"1\" class=\"dataframe\">\n",
              "  <thead>\n",
              "    <tr style=\"text-align: right;\">\n",
              "      <th></th>\n",
              "      <th>address</th>\n",
              "      <th>amount</th>\n",
              "    </tr>\n",
              "  </thead>\n",
              "  <tbody>\n",
              "    <tr>\n",
              "      <th>0</th>\n",
              "      <td>0x04bb39f36bbadf4e31aa1df09a2f5a0b76114a62</td>\n",
              "      <td>2</td>\n",
              "    </tr>\n",
              "    <tr>\n",
              "      <th>1</th>\n",
              "      <td>0x711447b288e2f853fa9716aa8eba37b02ca8a50f</td>\n",
              "      <td>0</td>\n",
              "    </tr>\n",
              "    <tr>\n",
              "      <th>2</th>\n",
              "      <td>0x8d16abfba10c079340ddf2b252f94353cdccfa57</td>\n",
              "      <td>6</td>\n",
              "    </tr>\n",
              "    <tr>\n",
              "      <th>3</th>\n",
              "      <td>0x8f8d0e8c921b6fbee6da796f3c823a8a1e354bea</td>\n",
              "      <td>3</td>\n",
              "    </tr>\n",
              "    <tr>\n",
              "      <th>4</th>\n",
              "      <td>0x936146f6850dc157e77fc060c442e0bdffbbe6ff</td>\n",
              "      <td>2</td>\n",
              "    </tr>\n",
              "    <tr>\n",
              "      <th>5</th>\n",
              "      <td>0x4b41947e269464408bbd9dce7346a7e07d522b12</td>\n",
              "      <td>2</td>\n",
              "    </tr>\n",
              "    <tr>\n",
              "      <th>6</th>\n",
              "      <td>0xeca19b1a87442b0c25801b809bf567a6ca87b1da</td>\n",
              "      <td>0</td>\n",
              "    </tr>\n",
              "    <tr>\n",
              "      <th>7</th>\n",
              "      <td>0xabde0e83ba513891aa3bc0a2f796132cae026106</td>\n",
              "      <td>5</td>\n",
              "    </tr>\n",
              "    <tr>\n",
              "      <th>8</th>\n",
              "      <td>0x11759e580b444aa1136482929984c76a19ef2794</td>\n",
              "      <td>0</td>\n",
              "    </tr>\n",
              "    <tr>\n",
              "      <th>9</th>\n",
              "      <td>0x635893f9918cbb41cb6c6bde4a87e5959f53dd56</td>\n",
              "      <td>5</td>\n",
              "    </tr>\n",
              "    <tr>\n",
              "      <th>10</th>\n",
              "      <td>0x873ce5c27fe1a679b724e25b5a856282a93b137f</td>\n",
              "      <td>30</td>\n",
              "    </tr>\n",
              "    <tr>\n",
              "      <th>11</th>\n",
              "      <td>0xee889cdf628e138f15538304fd72e2af56cbe4b6</td>\n",
              "      <td>0</td>\n",
              "    </tr>\n",
              "  </tbody>\n",
              "</table>\n",
              "</div>"
            ],
            "text/plain": [
              "                                       address amount\n",
              "0   0x04bb39f36bbadf4e31aa1df09a2f5a0b76114a62      2\n",
              "1   0x711447b288e2f853fa9716aa8eba37b02ca8a50f      0\n",
              "2   0x8d16abfba10c079340ddf2b252f94353cdccfa57      6\n",
              "3   0x8f8d0e8c921b6fbee6da796f3c823a8a1e354bea      3\n",
              "4   0x936146f6850dc157e77fc060c442e0bdffbbe6ff      2\n",
              "5   0x4b41947e269464408bbd9dce7346a7e07d522b12      2\n",
              "6   0xeca19b1a87442b0c25801b809bf567a6ca87b1da      0\n",
              "7   0xabde0e83ba513891aa3bc0a2f796132cae026106      5\n",
              "8   0x11759e580b444aa1136482929984c76a19ef2794      0\n",
              "9   0x635893f9918cbb41cb6c6bde4a87e5959f53dd56      5\n",
              "10  0x873ce5c27fe1a679b724e25b5a856282a93b137f     30\n",
              "11  0xee889cdf628e138f15538304fd72e2af56cbe4b6      0"
            ]
          },
          "metadata": {
            "tags": []
          },
          "execution_count": 10
        }
      ]
    },
    {
      "cell_type": "code",
      "metadata": {
        "id": "NM7k0ZVgXc7w"
      },
      "source": [
        ""
      ],
      "execution_count": 10,
      "outputs": []
    }
  ]
}